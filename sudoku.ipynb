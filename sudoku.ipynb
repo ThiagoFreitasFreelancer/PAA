{
 "cells": [
  {
   "cell_type": "markdown",
   "metadata": {},
   "source": [
    "**1: Funções Auxiliares**"
   ]
  },
  {
   "cell_type": "code",
   "execution_count": 1,
   "metadata": {},
   "outputs": [],
   "source": [
    "import numpy as np # type: ignore\n",
    "import random\n",
    "\n",
    "def is_palindrome(sequence):\n",
    "    \"\"\"Verifica se uma sequência é um palíndromo.\"\"\"\n",
    "    return sequence == sequence[::-1]\n",
    "\n",
    "def generate_palindromes():\n",
    "    \"\"\"\n",
    "    Gera todos os palíndromos de 3 dígitos possíveis, excluindo aqueles com três números iguais.\n",
    "    \"\"\"\n",
    "    palindromes = []\n",
    "    for i in range(1, 10):\n",
    "        for j in range(1, 10):\n",
    "            if i != j:  # Exclui palíndromos do tipo 111, 222, ...\n",
    "                palindromes.append([i, j, i])\n",
    "    random.shuffle(palindromes)  # Embaralha para introduzir variação\n",
    "    return palindromes\n",
    "\n",
    "def is_valid_palindrome(palindrome, used_palindromes):\n",
    "    \"\"\"Verifica se o palíndromo não foi usado em outros subquadrantes.\"\"\"\n",
    "    return palindrome not in used_palindromes\n",
    "\n",
    "def can_add_to_subquadrant(subquadrant, num, palindrome, duplicate_counts):\n",
    "    \"\"\"\n",
    "    Verifica se um número pode ser inserido no subquadrante.\n",
    "    \"\"\"\n",
    "    # Regra 1: Não pode estar no palíndromo\n",
    "    if num in palindrome:\n",
    "        return False\n",
    "\n",
    "    # Regra 2: O número pode aparecer no máximo 2 vezes\n",
    "    count = np.count_nonzero(subquadrant == num)\n",
    "    if count >= 2:\n",
    "        return False\n",
    "\n",
    "    # Regra 3: Apenas dois números extras podem ser duplicados\n",
    "    if count == 1 and len(duplicate_counts) >= 2 and num not in duplicate_counts:\n",
    "        return False\n",
    "\n",
    "    return True\n"
   ]
  },
  {
   "cell_type": "markdown",
   "metadata": {},
   "source": [
    "**2: Backtracking para Palíndromos**"
   ]
  },
  {
   "cell_type": "code",
   "execution_count": 2,
   "metadata": {},
   "outputs": [],
   "source": [
    "def fill_palindromes(board):\n",
    "    \"\"\"\n",
    "    Preenche as diagonais principais dos subquadrantes 3x3 com palíndromos.\n",
    "    Retorna True se for possível preencher os palíndromos.\n",
    "    \"\"\"\n",
    "    palindromes = generate_palindromes()  # Embaralha a cada execução\n",
    "    used_palindromes = []\n",
    "    \n",
    "    for sq_row in range(3):  # Para cada linha de subquadrantes\n",
    "        for sq_col in range(3):  # Para cada coluna de subquadrantes\n",
    "            found = False\n",
    "            for palindrome in palindromes:\n",
    "                if is_valid_palindrome(palindrome, used_palindromes):\n",
    "                    # Preencher diagonal principal\n",
    "                    board[sq_row*3 + 0][sq_col*3 + 0] = palindrome[0]\n",
    "                    board[sq_row*3 + 1][sq_col*3 + 1] = palindrome[1]\n",
    "                    board[sq_row*3 + 2][sq_col*3 + 2] = palindrome[2]\n",
    "                    \n",
    "                    used_palindromes.append(palindrome)\n",
    "                    found = True\n",
    "                    break\n",
    "            if not found:\n",
    "                return False  # Não foi possível preencher os palíndromos\n",
    "    \n",
    "    return True\n"
   ]
  },
  {
   "cell_type": "markdown",
   "metadata": {},
   "source": [
    "**3: Backtracking para o Restante do Tabuleiro**"
   ]
  },
  {
   "cell_type": "code",
   "execution_count": 3,
   "metadata": {},
   "outputs": [],
   "source": [
    "def fill_subquadrants(board):\n",
    "    \"\"\"\n",
    "    Preenche o restante das células em cada subquadrante.\n",
    "    \"\"\"\n",
    "    for sq_row in range(3):\n",
    "        for sq_col in range(3):\n",
    "            # Coordenadas do subquadrante\n",
    "            start_row, start_col = sq_row * 3, sq_col * 3\n",
    "            subquadrant = board[start_row:start_row+3, start_col:start_col+3]\n",
    "            palindrome = [\n",
    "                subquadrant[0, 0],\n",
    "                subquadrant[1, 1],\n",
    "                subquadrant[2, 2]\n",
    "            ]\n",
    "            \n",
    "            # Coletar números extras duplicados no subquadrante\n",
    "            duplicate_counts = {\n",
    "                num for num in subquadrant.flatten()\n",
    "                if np.count_nonzero(subquadrant == num) > 1 and num not in palindrome\n",
    "            }\n",
    "            \n",
    "            for row in range(3):\n",
    "                for col in range(3):\n",
    "                    if subquadrant[row, col] == 0:  # Célula vazia\n",
    "                        nums = list(range(1, 10))\n",
    "                        random.shuffle(nums)  # Embaralha os números possíveis\n",
    "                        for num in nums:\n",
    "                            if can_add_to_subquadrant(subquadrant, num, palindrome, duplicate_counts):\n",
    "                                subquadrant[row, col] = num\n",
    "                                if fill_subquadrants(board):\n",
    "                                    return True\n",
    "                                subquadrant[row, col] = 0  # Undo move\n",
    "                        return False  # Nenhum número válido encontrado\n",
    "    return True\n"
   ]
  },
  {
   "cell_type": "markdown",
   "metadata": {},
   "source": [
    "**Célula 4: Geração de Tabuleiros**"
   ]
  },
  {
   "cell_type": "code",
   "execution_count": 4,
   "metadata": {},
   "outputs": [
    {
     "name": "stdout",
     "output_type": "stream",
     "text": [
      "\n",
      "Tabuleiro 1:\n",
      "2 7 8  | 7 5 5  | 6 4 3 \n",
      "4 6 8  | 6 2 1  | 7 1 4 \n",
      "9 1 2  | 4 3 7  | 2 7 6 \n",
      "---------------------\n",
      "2 4 6  | 1 3 6  | 7 5 3 \n",
      "5 8 1  | 6 5 4  | 9 4 9 \n",
      "6 4 2  | 8 4 1  | 1 2 7 \n",
      "---------------------\n",
      "1 9 4  | 4 8 8  | 1 7 4 \n",
      "6 2 7  | 6 2 7  | 9 6 4 \n",
      "7 9 1  | 5 7 4  | 2 3 1 \n",
      "\n",
      "Tabuleiro 2:\n",
      "8 7 3  | 9 1 1  | 4 3 3 \n",
      "4 1 2  | 4 3 6  | 6 7 9 \n",
      "7 3 8  | 7 7 9  | 8 2 4 \n",
      "---------------------\n",
      "9 7 4  | 3 4 9  | 5 9 7 \n",
      "4 8 1  | 2 7 1  | 8 3 2 \n",
      "3 3 9  | 1 8 3  | 9 6 5 \n",
      "---------------------\n",
      "4 8 6  | 7 6 9  | 8 2 3 \n",
      "5 9 1  | 6 8 1  | 3 7 5 \n",
      "5 1 4  | 5 5 7  | 4 4 8 \n"
     ]
    }
   ],
   "source": [
    "def generate_boards(n):\n",
    "    \"\"\"\n",
    "    Gera os primeiros n tabuleiros que atendem às restrições.\n",
    "    \"\"\"\n",
    "    boards = []\n",
    "    attempts = 0  # Número de tentativas para evitar loops infinitos\n",
    "    \n",
    "    while len(boards) < n and attempts < 1000:\n",
    "        board = np.zeros((9, 9), dtype=int)\n",
    "        if fill_palindromes(board) and fill_subquadrants(board):\n",
    "            # Verifica se o tabuleiro gerado já existe (evita duplicatas)\n",
    "            if not any(np.array_equal(board, b) for b in boards):\n",
    "                boards.append(board.copy())\n",
    "        attempts += 1\n",
    "    \n",
    "    return boards\n",
    "\n",
    "# Função para exibir o tabuleiro\n",
    "def print_board(board):\n",
    "    for i in range(9):\n",
    "        if i % 3 == 0 and i != 0:\n",
    "            print(\"-\" * 21)\n",
    "        row = \"\"\n",
    "        for j in range(9):\n",
    "            if j % 3 == 0 and j != 0:\n",
    "                row += \" | \"\n",
    "            row += f\"{board[i][j]} \"\n",
    "        print(row)\n",
    "\n",
    "# Geração e exibição dos tabuleiros\n",
    "n = 2\n",
    "boards = generate_boards(n)\n",
    "\n",
    "for i, board in enumerate(boards, start=1):\n",
    "    print(f\"\\nTabuleiro {i}:\")\n",
    "    print_board(board)"
   ]
  }
 ],
 "metadata": {
  "kernelspec": {
   "display_name": ".venv",
   "language": "python",
   "name": "python3"
  },
  "language_info": {
   "codemirror_mode": {
    "name": "ipython",
    "version": 3
   },
   "file_extension": ".py",
   "mimetype": "text/x-python",
   "name": "python",
   "nbconvert_exporter": "python",
   "pygments_lexer": "ipython3",
   "version": "3.8.10"
  }
 },
 "nbformat": 4,
 "nbformat_minor": 2
}
